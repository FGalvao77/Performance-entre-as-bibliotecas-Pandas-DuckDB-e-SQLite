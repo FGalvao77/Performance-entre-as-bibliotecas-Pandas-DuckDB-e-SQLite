{
  "nbformat": 4,
  "nbformat_minor": 0,
  "metadata": {
    "colab": {
      "provenance": [],
      "authorship_tag": "ABX9TyObfqTT6tjBFdKIW7Ou183R",
      "include_colab_link": true
    },
    "kernelspec": {
      "name": "python3",
      "display_name": "Python 3"
    },
    "language_info": {
      "name": "python"
    }
  },
  "cells": [
    {
      "cell_type": "markdown",
      "metadata": {
        "id": "view-in-github",
        "colab_type": "text"
      },
      "source": [
        "<a href=\"https://colab.research.google.com/github/FGalvao77/Performance-entre-as-bibliotecas-Pandas-DuckDB-e-SQLite/blob/main/Performance_entre_as_bibliotecas_Pandas%2C_DuckDB_e_SQLite.ipynb\" target=\"_parent\"><img src=\"https://colab.research.google.com/assets/colab-badge.svg\" alt=\"Open In Colab\"/></a>"
      ]
    },
    {
      "cell_type": "markdown",
      "source": [
        "<br>\n",
        "\n",
        "## **Performance entre as bibliotecas: `Pandas`, `DuckDB` e `SQLite`**\n",
        "---\n",
        "---\n",
        "\n",
        "\n",
        "- Comparação de **tempo de execução** entre as _libraries_."
      ],
      "metadata": {
        "id": "s4RIwKcQaqZo"
      }
    },
    {
      "cell_type": "code",
      "source": [
        "# importando as bibliotecas \n",
        "import pandas as pd\n",
        "import numpy as np"
      ],
      "metadata": {
        "id": "FfnZGBCTHCEW"
      },
      "execution_count": null,
      "outputs": []
    },
    {
      "cell_type": "markdown",
      "source": [
        "Vamos instanciar um _dataframe_ com dados de duração de corridas de táxi, onde esse conjunto de dados possui 10 milhões de linhas e duas colunas, são elas:\n",
        "- `pickup_longitude`: longitude de coleta;\n",
        "- `trip_duration`: duração da viagem.\n",
        "\n",
        "E depois da criação do conjunto de dados iremos calcular a duração média das corridas que começaram a oeste da longitude -73,95."
      ],
      "metadata": {
        "id": "uqaY42iEOXec"
      }
    },
    {
      "cell_type": "code",
      "source": [
        "# números de linhas do conjunto de dados\n",
        "num_rows = 10_000_000\n",
        "\n",
        "# gerando uma longitude aleatória para cada linha \n",
        "pickup_longitude = np.random.uniform(\n",
        "    low=-38.0, high=-94.0, size=num_rows\n",
        ")\n",
        "\n",
        "# gerando uma duração de viagem aleatória\n",
        "trip_duration = np.random.normal(\n",
        "    loc=10, scale=5, size=num_rows\n",
        ")"
      ],
      "metadata": {
        "id": "XMoRF3aoHCAB"
      },
      "execution_count": null,
      "outputs": []
    },
    {
      "cell_type": "code",
      "source": [
        "# instanciando o dataframe com os dados acima\n",
        "df = pd.DataFrame(\n",
        "    {'pickup_longitude': pickup_longitude,\n",
        "     'trip_duration': trip_duration}\n",
        ")"
      ],
      "metadata": {
        "id": "lKGqkxuGHB_S"
      },
      "execution_count": null,
      "outputs": []
    },
    {
      "cell_type": "code",
      "source": [
        "# visualizando as 5 primeiras observações do conjunto de dados \n",
        "df.head()"
      ],
      "metadata": {
        "colab": {
          "base_uri": "https://localhost:8080/",
          "height": 206
        },
        "id": "2ElFWwHOHB9_",
        "outputId": "ec80e232-c805-4e02-bd6e-9ce85d652b5e"
      },
      "execution_count": null,
      "outputs": [
        {
          "output_type": "execute_result",
          "data": {
            "text/plain": [
              "   pickup_longitude  trip_duration\n",
              "0        -74.039969      13.844311\n",
              "1        -74.170674       7.925259\n",
              "2        -90.639128       6.890475\n",
              "3        -83.348512       7.462734\n",
              "4        -41.752227       6.159140"
            ],
            "text/html": [
              "\n",
              "  <div id=\"df-290d500a-72aa-4b8d-9df1-9cd7c0ad4269\">\n",
              "    <div class=\"colab-df-container\">\n",
              "      <div>\n",
              "<style scoped>\n",
              "    .dataframe tbody tr th:only-of-type {\n",
              "        vertical-align: middle;\n",
              "    }\n",
              "\n",
              "    .dataframe tbody tr th {\n",
              "        vertical-align: top;\n",
              "    }\n",
              "\n",
              "    .dataframe thead th {\n",
              "        text-align: right;\n",
              "    }\n",
              "</style>\n",
              "<table border=\"1\" class=\"dataframe\">\n",
              "  <thead>\n",
              "    <tr style=\"text-align: right;\">\n",
              "      <th></th>\n",
              "      <th>pickup_longitude</th>\n",
              "      <th>trip_duration</th>\n",
              "    </tr>\n",
              "  </thead>\n",
              "  <tbody>\n",
              "    <tr>\n",
              "      <th>0</th>\n",
              "      <td>-74.039969</td>\n",
              "      <td>13.844311</td>\n",
              "    </tr>\n",
              "    <tr>\n",
              "      <th>1</th>\n",
              "      <td>-74.170674</td>\n",
              "      <td>7.925259</td>\n",
              "    </tr>\n",
              "    <tr>\n",
              "      <th>2</th>\n",
              "      <td>-90.639128</td>\n",
              "      <td>6.890475</td>\n",
              "    </tr>\n",
              "    <tr>\n",
              "      <th>3</th>\n",
              "      <td>-83.348512</td>\n",
              "      <td>7.462734</td>\n",
              "    </tr>\n",
              "    <tr>\n",
              "      <th>4</th>\n",
              "      <td>-41.752227</td>\n",
              "      <td>6.159140</td>\n",
              "    </tr>\n",
              "  </tbody>\n",
              "</table>\n",
              "</div>\n",
              "      <button class=\"colab-df-convert\" onclick=\"convertToInteractive('df-290d500a-72aa-4b8d-9df1-9cd7c0ad4269')\"\n",
              "              title=\"Convert this dataframe to an interactive table.\"\n",
              "              style=\"display:none;\">\n",
              "        \n",
              "  <svg xmlns=\"http://www.w3.org/2000/svg\" height=\"24px\"viewBox=\"0 0 24 24\"\n",
              "       width=\"24px\">\n",
              "    <path d=\"M0 0h24v24H0V0z\" fill=\"none\"/>\n",
              "    <path d=\"M18.56 5.44l.94 2.06.94-2.06 2.06-.94-2.06-.94-.94-2.06-.94 2.06-2.06.94zm-11 1L8.5 8.5l.94-2.06 2.06-.94-2.06-.94L8.5 2.5l-.94 2.06-2.06.94zm10 10l.94 2.06.94-2.06 2.06-.94-2.06-.94-.94-2.06-.94 2.06-2.06.94z\"/><path d=\"M17.41 7.96l-1.37-1.37c-.4-.4-.92-.59-1.43-.59-.52 0-1.04.2-1.43.59L10.3 9.45l-7.72 7.72c-.78.78-.78 2.05 0 2.83L4 21.41c.39.39.9.59 1.41.59.51 0 1.02-.2 1.41-.59l7.78-7.78 2.81-2.81c.8-.78.8-2.07 0-2.86zM5.41 20L4 18.59l7.72-7.72 1.47 1.35L5.41 20z\"/>\n",
              "  </svg>\n",
              "      </button>\n",
              "      \n",
              "  <style>\n",
              "    .colab-df-container {\n",
              "      display:flex;\n",
              "      flex-wrap:wrap;\n",
              "      gap: 12px;\n",
              "    }\n",
              "\n",
              "    .colab-df-convert {\n",
              "      background-color: #E8F0FE;\n",
              "      border: none;\n",
              "      border-radius: 50%;\n",
              "      cursor: pointer;\n",
              "      display: none;\n",
              "      fill: #1967D2;\n",
              "      height: 32px;\n",
              "      padding: 0 0 0 0;\n",
              "      width: 32px;\n",
              "    }\n",
              "\n",
              "    .colab-df-convert:hover {\n",
              "      background-color: #E2EBFA;\n",
              "      box-shadow: 0px 1px 2px rgba(60, 64, 67, 0.3), 0px 1px 3px 1px rgba(60, 64, 67, 0.15);\n",
              "      fill: #174EA6;\n",
              "    }\n",
              "\n",
              "    [theme=dark] .colab-df-convert {\n",
              "      background-color: #3B4455;\n",
              "      fill: #D2E3FC;\n",
              "    }\n",
              "\n",
              "    [theme=dark] .colab-df-convert:hover {\n",
              "      background-color: #434B5C;\n",
              "      box-shadow: 0px 1px 3px 1px rgba(0, 0, 0, 0.15);\n",
              "      filter: drop-shadow(0px 1px 2px rgba(0, 0, 0, 0.3));\n",
              "      fill: #FFFFFF;\n",
              "    }\n",
              "  </style>\n",
              "\n",
              "      <script>\n",
              "        const buttonEl =\n",
              "          document.querySelector('#df-290d500a-72aa-4b8d-9df1-9cd7c0ad4269 button.colab-df-convert');\n",
              "        buttonEl.style.display =\n",
              "          google.colab.kernel.accessAllowed ? 'block' : 'none';\n",
              "\n",
              "        async function convertToInteractive(key) {\n",
              "          const element = document.querySelector('#df-290d500a-72aa-4b8d-9df1-9cd7c0ad4269');\n",
              "          const dataTable =\n",
              "            await google.colab.kernel.invokeFunction('convertToInteractive',\n",
              "                                                     [key], {});\n",
              "          if (!dataTable) return;\n",
              "\n",
              "          const docLinkHtml = 'Like what you see? Visit the ' +\n",
              "            '<a target=\"_blank\" href=https://colab.research.google.com/notebooks/data_table.ipynb>data table notebook</a>'\n",
              "            + ' to learn more about interactive tables.';\n",
              "          element.innerHTML = '';\n",
              "          dataTable['output_type'] = 'display_data';\n",
              "          await google.colab.output.renderOutput(dataTable, element);\n",
              "          const docLink = document.createElement('div');\n",
              "          docLink.innerHTML = docLinkHtml;\n",
              "          element.appendChild(docLink);\n",
              "        }\n",
              "      </script>\n",
              "    </div>\n",
              "  </div>\n",
              "  "
            ]
          },
          "metadata": {},
          "execution_count": 4
        }
      ]
    },
    {
      "cell_type": "code",
      "source": [
        "# dimensão do conjunto de dados - linhas e colunas\n",
        "df.shape"
      ],
      "metadata": {
        "colab": {
          "base_uri": "https://localhost:8080/"
        },
        "id": "BWLsvHmrHB4M",
        "outputId": "17c3f3e1-fc45-453e-eeb1-501419d4be4d"
      },
      "execution_count": null,
      "outputs": [
        {
          "output_type": "execute_result",
          "data": {
            "text/plain": [
              "(10000000, 2)"
            ]
          },
          "metadata": {},
          "execution_count": 5
        }
      ]
    },
    {
      "cell_type": "code",
      "source": [
        "# importando biblioteca para contablizar tempo\n",
        "import time"
      ],
      "metadata": {
        "id": "jPH2L3DMRFMJ"
      },
      "execution_count": null,
      "outputs": []
    },
    {
      "cell_type": "code",
      "source": [
        "# criando uma função para realizar o cálculo de execução da consulta do conjunto de dados\n",
        "def timing_decorator(func):\n",
        "    def wrapper(*args, **kwargs):\n",
        "        start_time = time.time()\n",
        "        result = func(*args, **kwargs)\n",
        "        end_time = time.time()\n",
        "\n",
        "        print(f'Function {func.__name__} took {end_time - start_time} seconds to run.')\n",
        "        \n",
        "        return result\n",
        "    return wrapper"
      ],
      "metadata": {
        "id": "uRs2lJvXJrjF"
      },
      "execution_count": null,
      "outputs": []
    },
    {
      "cell_type": "code",
      "source": [
        "# utilizando a função \"timing_decorator\"\n",
        "@timing_decorator \n",
        "\n",
        "# instanciando uma função para exibir o resultado da consulta do tempo médio das corridas\n",
        "def find_avg_trip_duration_in_the_west():\n",
        "    return df[df['pickup_longitude'] < -73.95]['trip_duration'].mean()"
      ],
      "metadata": {
        "id": "r3YtrbDXHB2w"
      },
      "execution_count": null,
      "outputs": []
    },
    {
      "cell_type": "code",
      "source": [
        "# utilizando a função \"find_avg_trip_duration_in_the_west()\" para visualizar o resultado\n",
        "find_avg_trip_duration_in_the_west()"
      ],
      "metadata": {
        "colab": {
          "base_uri": "https://localhost:8080/"
        },
        "id": "U6HvrpiJHBxe",
        "outputId": "857b5da4-d9cf-4463-d81d-58e0e4ddf11d"
      },
      "execution_count": null,
      "outputs": [
        {
          "output_type": "stream",
          "name": "stdout",
          "text": [
            "Function find_avg_trip_duration_in_the_west took 0.24489307403564453 seconds to run.\n"
          ]
        },
        {
          "output_type": "execute_result",
          "data": {
            "text/plain": [
              "9.999314866483957"
            ]
          },
          "metadata": {},
          "execution_count": 9
        }
      ]
    },
    {
      "cell_type": "markdown",
      "source": [
        "Vamos instalar a biblioetca [DuckDB](https://duckdb.org/docs/archive/0.2.8/api/python) e utilizar o conjunto de dados acima para realizar a mesma consulta do tempo médio de duração das corridas de táxi com longitude a oeste de 73,95."
      ],
      "metadata": {
        "id": "nuxCvmg6T7zq"
      }
    },
    {
      "cell_type": "code",
      "execution_count": null,
      "metadata": {
        "id": "RxUExWmaGzpb"
      },
      "outputs": [],
      "source": [
        "# instalando a biblioteca \"duckdb\"\n",
        "%%capture\n",
        "!pip install duckdb"
      ]
    },
    {
      "cell_type": "code",
      "source": [
        "# importando a biblioteca\n",
        "import duckdb"
      ],
      "metadata": {
        "id": "QuzkLeseHBwD"
      },
      "execution_count": null,
      "outputs": []
    },
    {
      "cell_type": "code",
      "source": [
        "# utilizando a função \"timing_decorator\"\n",
        "@timing_decorator\n",
        "\n",
        "# instanciando uma função com a biblioetca \"DuckDB\" para exibir o resultado da consulta do tempo médio das corridas\n",
        "def find_avg_trip_duration_in_the_west():\n",
        "    return duckdb.execute(\n",
        "        '''SELECT AVG(trip_duration)\n",
        "         FROM df\n",
        "         WHERE pickup_longitude < -73.95'''\n",
        "    ).df()"
      ],
      "metadata": {
        "id": "OAkEzWUPHBu0"
      },
      "execution_count": null,
      "outputs": []
    },
    {
      "cell_type": "code",
      "source": [
        "# utilizando a função \"find_avg_trip_duration_in_the_west()\" para visualizar o resultado\n",
        "find_avg_trip_duration_in_the_west()"
      ],
      "metadata": {
        "colab": {
          "base_uri": "https://localhost:8080/",
          "height": 98
        },
        "id": "ypRmWB4IHBoU",
        "outputId": "0c004d97-4553-4d08-fcdb-6f71240b28e6"
      },
      "execution_count": null,
      "outputs": [
        {
          "output_type": "stream",
          "name": "stdout",
          "text": [
            "Function find_avg_trip_duration_in_the_west took 0.13002538681030273 seconds to run.\n"
          ]
        },
        {
          "output_type": "execute_result",
          "data": {
            "text/plain": [
              "   avg(trip_duration)\n",
              "0            9.999315"
            ],
            "text/html": [
              "\n",
              "  <div id=\"df-9f1f9620-b6b7-494a-8960-4aef33af9cf2\">\n",
              "    <div class=\"colab-df-container\">\n",
              "      <div>\n",
              "<style scoped>\n",
              "    .dataframe tbody tr th:only-of-type {\n",
              "        vertical-align: middle;\n",
              "    }\n",
              "\n",
              "    .dataframe tbody tr th {\n",
              "        vertical-align: top;\n",
              "    }\n",
              "\n",
              "    .dataframe thead th {\n",
              "        text-align: right;\n",
              "    }\n",
              "</style>\n",
              "<table border=\"1\" class=\"dataframe\">\n",
              "  <thead>\n",
              "    <tr style=\"text-align: right;\">\n",
              "      <th></th>\n",
              "      <th>avg(trip_duration)</th>\n",
              "    </tr>\n",
              "  </thead>\n",
              "  <tbody>\n",
              "    <tr>\n",
              "      <th>0</th>\n",
              "      <td>9.999315</td>\n",
              "    </tr>\n",
              "  </tbody>\n",
              "</table>\n",
              "</div>\n",
              "      <button class=\"colab-df-convert\" onclick=\"convertToInteractive('df-9f1f9620-b6b7-494a-8960-4aef33af9cf2')\"\n",
              "              title=\"Convert this dataframe to an interactive table.\"\n",
              "              style=\"display:none;\">\n",
              "        \n",
              "  <svg xmlns=\"http://www.w3.org/2000/svg\" height=\"24px\"viewBox=\"0 0 24 24\"\n",
              "       width=\"24px\">\n",
              "    <path d=\"M0 0h24v24H0V0z\" fill=\"none\"/>\n",
              "    <path d=\"M18.56 5.44l.94 2.06.94-2.06 2.06-.94-2.06-.94-.94-2.06-.94 2.06-2.06.94zm-11 1L8.5 8.5l.94-2.06 2.06-.94-2.06-.94L8.5 2.5l-.94 2.06-2.06.94zm10 10l.94 2.06.94-2.06 2.06-.94-2.06-.94-.94-2.06-.94 2.06-2.06.94z\"/><path d=\"M17.41 7.96l-1.37-1.37c-.4-.4-.92-.59-1.43-.59-.52 0-1.04.2-1.43.59L10.3 9.45l-7.72 7.72c-.78.78-.78 2.05 0 2.83L4 21.41c.39.39.9.59 1.41.59.51 0 1.02-.2 1.41-.59l7.78-7.78 2.81-2.81c.8-.78.8-2.07 0-2.86zM5.41 20L4 18.59l7.72-7.72 1.47 1.35L5.41 20z\"/>\n",
              "  </svg>\n",
              "      </button>\n",
              "      \n",
              "  <style>\n",
              "    .colab-df-container {\n",
              "      display:flex;\n",
              "      flex-wrap:wrap;\n",
              "      gap: 12px;\n",
              "    }\n",
              "\n",
              "    .colab-df-convert {\n",
              "      background-color: #E8F0FE;\n",
              "      border: none;\n",
              "      border-radius: 50%;\n",
              "      cursor: pointer;\n",
              "      display: none;\n",
              "      fill: #1967D2;\n",
              "      height: 32px;\n",
              "      padding: 0 0 0 0;\n",
              "      width: 32px;\n",
              "    }\n",
              "\n",
              "    .colab-df-convert:hover {\n",
              "      background-color: #E2EBFA;\n",
              "      box-shadow: 0px 1px 2px rgba(60, 64, 67, 0.3), 0px 1px 3px 1px rgba(60, 64, 67, 0.15);\n",
              "      fill: #174EA6;\n",
              "    }\n",
              "\n",
              "    [theme=dark] .colab-df-convert {\n",
              "      background-color: #3B4455;\n",
              "      fill: #D2E3FC;\n",
              "    }\n",
              "\n",
              "    [theme=dark] .colab-df-convert:hover {\n",
              "      background-color: #434B5C;\n",
              "      box-shadow: 0px 1px 3px 1px rgba(0, 0, 0, 0.15);\n",
              "      filter: drop-shadow(0px 1px 2px rgba(0, 0, 0, 0.3));\n",
              "      fill: #FFFFFF;\n",
              "    }\n",
              "  </style>\n",
              "\n",
              "      <script>\n",
              "        const buttonEl =\n",
              "          document.querySelector('#df-9f1f9620-b6b7-494a-8960-4aef33af9cf2 button.colab-df-convert');\n",
              "        buttonEl.style.display =\n",
              "          google.colab.kernel.accessAllowed ? 'block' : 'none';\n",
              "\n",
              "        async function convertToInteractive(key) {\n",
              "          const element = document.querySelector('#df-9f1f9620-b6b7-494a-8960-4aef33af9cf2');\n",
              "          const dataTable =\n",
              "            await google.colab.kernel.invokeFunction('convertToInteractive',\n",
              "                                                     [key], {});\n",
              "          if (!dataTable) return;\n",
              "\n",
              "          const docLinkHtml = 'Like what you see? Visit the ' +\n",
              "            '<a target=\"_blank\" href=https://colab.research.google.com/notebooks/data_table.ipynb>data table notebook</a>'\n",
              "            + ' to learn more about interactive tables.';\n",
              "          element.innerHTML = '';\n",
              "          dataTable['output_type'] = 'display_data';\n",
              "          await google.colab.output.renderOutput(dataTable, element);\n",
              "          const docLink = document.createElement('div');\n",
              "          docLink.innerHTML = docLinkHtml;\n",
              "          element.appendChild(docLink);\n",
              "        }\n",
              "      </script>\n",
              "    </div>\n",
              "  </div>\n",
              "  "
            ]
          },
          "metadata": {},
          "execution_count": 13
        }
      ]
    },
    {
      "cell_type": "markdown",
      "source": [
        "> Note que, com a utilização da biblioteca `DuckDB` o tempo de execução da consulta foi aproximadamente metade do tempo da biblioteca `Pandas`."
      ],
      "metadata": {
        "id": "eukFlvdnVAN3"
      }
    },
    {
      "cell_type": "markdown",
      "source": [
        "Agora vamos utilizar o `SQLite` e comparar o seu tempo de execução em relação as bibliotecas _Pandas_ e _DuckDB_."
      ],
      "metadata": {
        "id": "nfq5mXayVeCY"
      }
    },
    {
      "cell_type": "code",
      "source": [
        "# importando o \"SQLite3\"\n",
        "import sqlite3"
      ],
      "metadata": {
        "id": "VAZrmCzPHBmE"
      },
      "execution_count": null,
      "outputs": []
    },
    {
      "cell_type": "code",
      "source": [
        "# criando um database e instanciando sua conexão\n",
        "conn = sqlite3.connect(database='taxi.db')"
      ],
      "metadata": {
        "id": "mJFPVz3pMWLH"
      },
      "execution_count": null,
      "outputs": []
    },
    {
      "cell_type": "code",
      "source": [
        "# visualizando o database criado\n",
        "df.to_sql(name='trips', con=conn)"
      ],
      "metadata": {
        "colab": {
          "base_uri": "https://localhost:8080/"
        },
        "id": "sHqIshcdMWFX",
        "outputId": "583b1f24-5cad-4540-fe08-c3d774e78022"
      },
      "execution_count": null,
      "outputs": [
        {
          "output_type": "execute_result",
          "data": {
            "text/plain": [
              "10000000"
            ]
          },
          "metadata": {},
          "execution_count": 16
        }
      ]
    },
    {
      "cell_type": "code",
      "source": [
        "# novamente utilizando a função \"timing_decorator\"\n",
        "@timing_decorator\n",
        "\n",
        "# função para exibir o resultado da consulta do tempo médio das corridas \n",
        "def find_avg_trip_duration_in_the_west():\n",
        "    cursor = conn.cursor()\n",
        "    cursor.execute(\n",
        "        '''\n",
        "        SELECT AVG(trip_duration)\n",
        "        FROM trips \n",
        "        WHERE pickup_longitude < -73.95\n",
        "        '''\n",
        "    )\n",
        "\n",
        "    result = cursor.fetchone()[0]\n",
        "    cursor.close()\n",
        "\n",
        "    return result"
      ],
      "metadata": {
        "id": "EOaMBTOrMWDo"
      },
      "execution_count": null,
      "outputs": []
    },
    {
      "cell_type": "markdown",
      "source": [
        "> Ao executar o `SQLite` precisamos criar uma instância separada do banco de dados no disco e insir os dados nela. E todas essas estapas já não é necessária na `DuckDB`."
      ],
      "metadata": {
        "id": "ejE-gscfY8lP"
      }
    },
    {
      "cell_type": "code",
      "source": [
        "# visualizando o resultado de execução da consulta e tempo médio das corridas\n",
        "find_avg_trip_duration_in_the_west()"
      ],
      "metadata": {
        "colab": {
          "base_uri": "https://localhost:8080/"
        },
        "id": "Tifj2-juMWCg",
        "outputId": "0c965136-8591-48a8-b171-cab8075e56cf"
      },
      "execution_count": null,
      "outputs": [
        {
          "output_type": "stream",
          "name": "stdout",
          "text": [
            "Function find_avg_trip_duration_in_the_west took 0.920447587966919 seconds to run.\n"
          ]
        },
        {
          "output_type": "execute_result",
          "data": {
            "text/plain": [
              "9.999314866483642"
            ]
          },
          "metadata": {},
          "execution_count": 18
        }
      ]
    },
    {
      "cell_type": "markdown",
      "source": [
        "> O tempo de execução foi ainda maior que da biblioteca _Pandas_."
      ],
      "metadata": {
        "id": "Zk6oXV-MXgl_"
      }
    },
    {
      "cell_type": "markdown",
      "source": [
        "Portanto, através desse experimento prático chegamos à conclusão de que `DuckDB` apresenta o menor tempo de execução que as demais bibliotecas.\n",
        "\n",
        "Embora a biblioteca `DuckDB` possua vantagens em tempo de execução, isso não é tudo! Você ainda irá precisar de banco de dados escaláveis, talvez como o **Postgres** para projetos de grande escala."
      ],
      "metadata": {
        "id": "yJnht9GJXsHJ"
      }
    },
    {
      "cell_type": "code",
      "source": [],
      "metadata": {
        "id": "88hwCsUOMV8i"
      },
      "execution_count": null,
      "outputs": []
    },
    {
      "cell_type": "code",
      "source": [],
      "metadata": {
        "id": "GTm81SGuMV5_"
      },
      "execution_count": null,
      "outputs": []
    },
    {
      "cell_type": "code",
      "source": [],
      "metadata": {
        "id": "746Zvbd_N8jk"
      },
      "execution_count": null,
      "outputs": []
    }
  ]
}